{
 "cells": [
  {
   "attachments": {},
   "cell_type": "markdown",
   "id": "7b30fe0e-d4b7-42d4-8714-fd29ab746020",
   "metadata": {},
   "source": [
    "# Hi!\n",
    "\n",
    "This is a notebook hosted by [Jamsocket](https://jamsocket.com/).\n",
    "\n",
    "You can clone the [jamsocket-jupyter-notebook](https://github.com/drifting-in-space/jamsocket-jupyter-notebook) repo and replace this with whatever you want."
   ]
  },
  {
   "cell_type": "code",
   "execution_count": null,
   "id": "54fe8c01-0929-47be-a80b-c4d682c56dae",
   "metadata": {},
   "outputs": [],
   "source": [
    "print('Hello, Jamsocket user!')"
   ]
  }
 ],
 "metadata": {
  "kernelspec": {
   "display_name": "Python 3 (ipykernel)",
   "language": "python",
   "name": "python3"
  },
  "language_info": {
   "codemirror_mode": {
    "name": "ipython",
    "version": 3
   },
   "file_extension": ".py",
   "mimetype": "text/x-python",
   "name": "python",
   "nbconvert_exporter": "python",
   "pygments_lexer": "ipython3",
   "version": "3.9.2"
  }
 },
 "nbformat": 4,
 "nbformat_minor": 5
}
